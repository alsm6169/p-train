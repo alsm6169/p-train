{
 "cells": [
  {
   "cell_type": "markdown",
   "id": "f9080b9e",
   "metadata": {},
   "source": [
    "# Set of commands to launch this notebook from scratch\n",
    "\n",
    "```\n",
    "$ cd /Users/me/Documents/Python/GitHub/p-rev\n",
    "$ conda create --name p-rev python pandas juypter\n",
    "$ conda activate p-rev\n",
    "$ jupyter notebook\n",
    "\n",
    "```"
   ]
  },
  {
   "cell_type": "markdown",
   "id": "613ba5b0",
   "metadata": {},
   "source": [
    "# Few quick Jupyter notebook keyboard shortcuts\n",
    "1. Enter into cell in write mode > Press Enter\n",
    "2. Code Cell > Esc y (border esp. on left side will be blue)\n",
    "3. Markdown Cell > Esc m (border esp. on left side will be green)\n",
    "4. Execute Cell > Shift Enter\n",
    "5. Insert Cell Above > Esc a (a=above)\n",
    "6. Insert Cell Below > Esc b (b=below)\n",
    "7. Delete Cell > Esc d d (two times)"
   ]
  },
  {
   "cell_type": "code",
   "execution_count": 7,
   "id": "652240d6",
   "metadata": {},
   "outputs": [
    {
     "name": "stdout",
     "output_type": "stream",
     "text": [
      "PYTHONPATH = None\n",
      "PATH = /Users/anirudh/miniconda3/envs/p-rev/bin:/Users/anirudh/miniconda3/condabin:/Users/anirudh/miniconda3/bin:/usr/local/bin:/usr/bin:/bin:/usr/sbin:/sbin:/Library/Apple/usr/bin:/Applications/Postgres.app/Contents/Versions/latest/bin\n"
     ]
    }
   ],
   "source": [
    "#see using single quote ' and double quote \" in same sentence\n",
    "\n",
    "import os\n",
    "print(f'PYTHONPATH = {os.getenv(\"PYTHONPATH\")}')\n",
    "print(f'PATH = {os.getenv(\"PATH\")}')"
   ]
  },
  {
   "cell_type": "code",
   "execution_count": 37,
   "id": "766d3871",
   "metadata": {},
   "outputs": [
    {
     "name": "stdout",
     "output_type": "stream",
     "text": [
      "2 5\n",
      "5 2\n"
     ]
    }
   ],
   "source": [
    "#inplace swapping two numbers + assigning multiple variables in one go\n",
    "p, q = 2, 5\n",
    "print(p, q)\n",
    "p, q = q, p\n",
    "print(p, q)"
   ]
  },
  {
   "cell_type": "code",
   "execution_count": 35,
   "id": "3e3e5360",
   "metadata": {},
   "outputs": [
    {
     "name": "stdout",
     "output_type": "stream",
     "text": [
      "Reverse is ?siht esrever uoy naC\n"
     ]
    }
   ],
   "source": [
    "#Reversing a String in Python\n",
    "\n",
    "x = \"Can you reverse this?\"\n",
    "print( \"Reverse is\" , x[::-1])"
   ]
  },
  {
   "cell_type": "code",
   "execution_count": 17,
   "id": "9c7b324b",
   "metadata": {},
   "outputs": [
    {
     "name": "stdout",
     "output_type": "stream",
     "text": [
      "l1 = [0, 1, 2, 3, 4]\n",
      "l2 = [0, 2, 4, 6, 8]\n"
     ]
    }
   ],
   "source": [
    "# list comprehension example\n",
    "l1 = [x for x in range(5)]\n",
    "print(f'l1 = {l1}')\n",
    "l2 = [x*2 for x in range(5)]\n",
    "print(f'l2 = {l2}')"
   ]
  },
  {
   "cell_type": "code",
   "execution_count": 22,
   "id": "54a9030b",
   "metadata": {},
   "outputs": [
    {
     "name": "stdout",
     "output_type": "stream",
     "text": [
      "<class 'dict'> \n",
      " {0: 0, 1: 2, 2: 4, 3: 6, 4: 8}\n",
      "d1[3] = 6\n"
     ]
    }
   ],
   "source": [
    "# dictionary comprehension example\n",
    "d1 = {x:x*2 for x in range(5)}\n",
    "print(type(d1), '\\n', d1)\n",
    "print(f'd1[3] = {d1[3]}')"
   ]
  },
  {
   "cell_type": "code",
   "execution_count": 30,
   "id": "21bd57b5",
   "metadata": {},
   "outputs": [
    {
     "name": "stdout",
     "output_type": "stream",
     "text": [
      "1 is odd\n",
      "2 is even\n",
      "3 is odd\n",
      "4 is even\n"
     ]
    }
   ],
   "source": [
    "# tertiary operator\n",
    "for i in range(1,5):\n",
    "    print(str(i) + ' is odd' if i%2 != 0 else str(i) + ' is even')"
   ]
  },
  {
   "cell_type": "code",
   "execution_count": 34,
   "id": "a67c4acf",
   "metadata": {},
   "outputs": [
    {
     "name": "stdout",
     "output_type": "stream",
     "text": [
      "i=1\n",
      "i=2\n",
      "i=3\n",
      "i=4\n",
      "i=5, continue\n",
      "i=6\n",
      "i=7, break\n"
     ]
    }
   ],
   "source": [
    "# for loop with break, continue\n",
    "for i in range(1,10):\n",
    "    if (i != 5) and (i != 7):\n",
    "        print(f'i={i}')\n",
    "    elif i == 5:\n",
    "        print(f'i={i}, continue')\n",
    "        continue\n",
    "    elif i == 7:\n",
    "        print(f'i={i}, break')\n",
    "        break"
   ]
  },
  {
   "cell_type": "code",
   "execution_count": 42,
   "id": "e7fa445c",
   "metadata": {},
   "outputs": [
    {
     "name": "stdout",
     "output_type": "stream",
     "text": [
      "i=2\n",
      "i=3\n",
      "i=4\n",
      "i=5, continue\n",
      "i=6\n",
      "i=7, break\n"
     ]
    }
   ],
   "source": [
    "# while loop with break, continue\n",
    "\n",
    "i=2\n",
    "while i <= 10:\n",
    "    if (i != 5) and (i != 7):\n",
    "        print(f'i={i}')\n",
    "    elif i == 5:\n",
    "        print(f'i={i}, continue')\n",
    "        i +=1 # NOTE <-- withouth this it will be infinite loop\n",
    "        continue\n",
    "    elif i == 7:\n",
    "        print(f'i={i}, break')\n",
    "        break\n",
    "    i +=1"
   ]
  },
  {
   "cell_type": "code",
   "execution_count": 45,
   "id": "8cdd2f2a",
   "metadata": {},
   "outputs": [
    {
     "name": "stdout",
     "output_type": "stream",
     "text": [
      "<class 'list'> ['hello', ',', 'how', 'are', 'you?']\n",
      "<class 'str'> hello , how are you?\n"
     ]
    }
   ],
   "source": [
    "# convert list of words to a string\n",
    "lw = ['hello', ',', 'how', 'are', 'you?']\n",
    "print(type(lw), lw)\n",
    "convstr = ' '.join(lw)\n",
    "print(type(convstr), convstr)"
   ]
  },
  {
   "cell_type": "code",
   "execution_count": 58,
   "id": "29d5fdfc",
   "metadata": {},
   "outputs": [
    {
     "name": "stdout",
     "output_type": "stream",
     "text": [
      "upper: HELLO, HOW ARE YOU DOING? I AM OK\n",
      "lower: hello, how are you doing? i am ok\n",
      "capitalize:  Hello, how are you doing? i am ok\n",
      "split:  ['hello,', 'how', 'are', 'you', 'doing?', 'I', 'am', 'OK']\n",
      "isnumeric:  True\n"
     ]
    }
   ],
   "source": [
    "# string functions\n",
    "test = 'hello, how are you doing? I am OK'\n",
    "print('upper:', test.upper())\n",
    "print('lower:', test.lower())\n",
    "print('capitalize: ', test.capitalize())\n",
    "print('split: ', test.split())\n",
    "test2 = '124'\n",
    "print('isnumeric: ', test2.isnumeric())"
   ]
  },
  {
   "cell_type": "code",
   "execution_count": 5,
   "id": "a6945e3d",
   "metadata": {},
   "outputs": [
    {
     "name": "stdout",
     "output_type": "stream",
     "text": [
      "lnum[0] = 0, lnum[-1] = 7, lnum[:3] = [0, 1, 2], lnum[-3:] = [5, 6, 7]\n"
     ]
    }
   ],
   "source": [
    "lnum = [0,1,2,3,4,5,6,7]\n",
    "print(f'lnum[0] = {lnum[0]}, lnum[-1] = {lnum[-1]}, lnum[:3] = {lnum[:3]}, lnum[-3:] = {lnum[-3:]}')"
   ]
  },
  {
   "cell_type": "code",
   "execution_count": null,
   "id": "d23478dc",
   "metadata": {},
   "outputs": [],
   "source": []
  }
 ],
 "metadata": {
  "kernelspec": {
   "display_name": "Python 3 (ipykernel)",
   "language": "python",
   "name": "python3"
  },
  "language_info": {
   "codemirror_mode": {
    "name": "ipython",
    "version": 3
   },
   "file_extension": ".py",
   "mimetype": "text/x-python",
   "name": "python",
   "nbconvert_exporter": "python",
   "pygments_lexer": "ipython3",
   "version": "3.10.9"
  }
 },
 "nbformat": 4,
 "nbformat_minor": 5
}

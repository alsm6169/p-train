{
 "cells": [
  {
   "cell_type": "code",
   "execution_count": 1,
   "id": "f2e6e088",
   "metadata": {},
   "outputs": [],
   "source": [
    "import numpy as np"
   ]
  },
  {
   "cell_type": "code",
   "execution_count": 2,
   "id": "6dedfd78",
   "metadata": {},
   "outputs": [
    {
     "data": {
      "text/plain": [
       "'1.23.5'"
      ]
     },
     "execution_count": 2,
     "metadata": {},
     "output_type": "execute_result"
    }
   ],
   "source": [
    "np.__version__"
   ]
  },
  {
   "cell_type": "markdown",
   "id": "6fd8bda7",
   "metadata": {},
   "source": [
    "## create arrays"
   ]
  },
  {
   "cell_type": "code",
   "execution_count": 3,
   "id": "d6518d3b",
   "metadata": {},
   "outputs": [
    {
     "name": "stdout",
     "output_type": "stream",
     "text": [
      "<class 'numpy.ndarray'> \n",
      "shape:  (5,) \n",
      " [1 2 3 4 5]\n"
     ]
    }
   ],
   "source": [
    "a1 = np.arange(1,6)\n",
    "print(type(a1), '\\nshape: ', a1.shape, '\\n', a1)"
   ]
  },
  {
   "cell_type": "code",
   "execution_count": 4,
   "id": "412402fe",
   "metadata": {},
   "outputs": [
    {
     "name": "stdout",
     "output_type": "stream",
     "text": [
      "<class 'numpy.ndarray'> \n",
      "shape:  (5,) \n",
      " [11 13 15 17 19]\n"
     ]
    }
   ],
   "source": [
    "a2 = np.arange(11,20,2)\n",
    "print(type(a2), '\\nshape: ', a2.shape, '\\n', a2)"
   ]
  },
  {
   "cell_type": "markdown",
   "id": "8ee1e925",
   "metadata": {},
   "source": [
    "## create matrix"
   ]
  },
  {
   "cell_type": "code",
   "execution_count": 5,
   "id": "628781c0",
   "metadata": {},
   "outputs": [
    {
     "name": "stdout",
     "output_type": "stream",
     "text": [
      "<class 'numpy.ndarray'> \n",
      "shape:  (3, 2) \n",
      " [[0 1]\n",
      " [2 3]\n",
      " [4 5]]\n"
     ]
    }
   ],
   "source": [
    "m1 = np.arange(6).reshape((3,2))\n",
    "print(type(m1), '\\nshape: ', m1.shape, '\\n', m1)"
   ]
  },
  {
   "cell_type": "markdown",
   "id": "7e7fd199",
   "metadata": {},
   "source": [
    "### want numpy to auto-calculate the other dimension?"
   ]
  },
  {
   "cell_type": "code",
   "execution_count": 6,
   "id": "7257d4bf",
   "metadata": {},
   "outputs": [
    {
     "name": "stdout",
     "output_type": "stream",
     "text": [
      "shape:  (2, 3) \n",
      " [[0 1 2]\n",
      " [3 4 5]]\n"
     ]
    }
   ],
   "source": [
    "m2 = np.arange(6).reshape(2,-1)\n",
    "print('shape: ', m2.shape, '\\n', m2)"
   ]
  },
  {
   "cell_type": "code",
   "execution_count": 7,
   "id": "f11d4bd3",
   "metadata": {},
   "outputs": [
    {
     "name": "stdout",
     "output_type": "stream",
     "text": [
      "shape:  (3, 2, 1) \n",
      " [[[0]\n",
      "  [1]]\n",
      "\n",
      " [[2]\n",
      "  [3]]\n",
      "\n",
      " [[4]\n",
      "  [5]]]\n"
     ]
    }
   ],
   "source": [
    "m3 = np.arange(6).reshape((3,2,-1))\n",
    "print('shape: ', m3.shape, '\\n', m3)"
   ]
  },
  {
   "cell_type": "markdown",
   "id": "dc6ce40f",
   "metadata": {},
   "source": [
    "## matrix math + bool operations"
   ]
  },
  {
   "cell_type": "code",
   "execution_count": 8,
   "id": "590c139f",
   "metadata": {},
   "outputs": [
    {
     "data": {
      "text/plain": [
       "array([12, 15, 18, 21, 24])"
      ]
     },
     "execution_count": 8,
     "metadata": {},
     "output_type": "execute_result"
    }
   ],
   "source": [
    "a1 + a2 "
   ]
  },
  {
   "cell_type": "code",
   "execution_count": 9,
   "id": "6861211d",
   "metadata": {},
   "outputs": [
    {
     "data": {
      "text/plain": [
       "array([11, 26, 45, 68, 95])"
      ]
     },
     "execution_count": 9,
     "metadata": {},
     "output_type": "execute_result"
    }
   ],
   "source": [
    "a1*a2"
   ]
  },
  {
   "cell_type": "code",
   "execution_count": 10,
   "id": "2a7f383f",
   "metadata": {},
   "outputs": [
    {
     "name": "stdout",
     "output_type": "stream",
     "text": [
      "shape:  (3, 2) \n",
      " [[0 1]\n",
      " [2 3]\n",
      " [4 5]]\n"
     ]
    }
   ],
   "source": [
    "m1 = np.arange(6).reshape(3,2)\n",
    "print('shape: ', m1.shape, '\\n', m1)"
   ]
  },
  {
   "cell_type": "code",
   "execution_count": 11,
   "id": "fe953572",
   "metadata": {},
   "outputs": [
    {
     "data": {
      "text/plain": [
       "True"
      ]
     },
     "execution_count": 11,
     "metadata": {},
     "output_type": "execute_result"
    }
   ],
   "source": [
    "3 in m1"
   ]
  },
  {
   "cell_type": "code",
   "execution_count": 12,
   "id": "a587f570",
   "metadata": {},
   "outputs": [
    {
     "data": {
      "text/plain": [
       "False"
      ]
     },
     "execution_count": 12,
     "metadata": {},
     "output_type": "execute_result"
    }
   ],
   "source": [
    "7 in m1"
   ]
  },
  {
   "cell_type": "code",
   "execution_count": 13,
   "id": "605e9210",
   "metadata": {},
   "outputs": [
    {
     "data": {
      "text/plain": [
       "array([3, 4, 5])"
      ]
     },
     "execution_count": 13,
     "metadata": {},
     "output_type": "execute_result"
    }
   ],
   "source": [
    "m1[m1>2]"
   ]
  },
  {
   "cell_type": "code",
   "execution_count": 14,
   "id": "0e0686b2",
   "metadata": {},
   "outputs": [
    {
     "data": {
      "text/plain": [
       "array([[ True,  True],\n",
       "       [False, False],\n",
       "       [False, False]])"
      ]
     },
     "execution_count": 14,
     "metadata": {},
     "output_type": "execute_result"
    }
   ],
   "source": [
    "m1_bool = m1 < 2\n",
    "m1_bool"
   ]
  },
  {
   "cell_type": "code",
   "execution_count": 15,
   "id": "5c0c6669",
   "metadata": {},
   "outputs": [
    {
     "data": {
      "text/plain": [
       "array([0, 1])"
      ]
     },
     "execution_count": 15,
     "metadata": {},
     "output_type": "execute_result"
    }
   ],
   "source": [
    "m1[m1_bool]"
   ]
  },
  {
   "cell_type": "markdown",
   "id": "c5d576f9",
   "metadata": {},
   "source": [
    "## np.ones, np.zeros, np.full, np.random"
   ]
  },
  {
   "cell_type": "code",
   "execution_count": 16,
   "id": "9d1ad974",
   "metadata": {},
   "outputs": [
    {
     "name": "stdout",
     "output_type": "stream",
     "text": [
      "shape:  (2, 3) \n",
      " [[0. 0. 0.]\n",
      " [0. 0. 0.]]\n"
     ]
    }
   ],
   "source": [
    "z1 = np.zeros((2,3))\n",
    "print('shape: ', z1.shape, '\\n', z1)"
   ]
  },
  {
   "cell_type": "code",
   "execution_count": 17,
   "id": "af719ef6",
   "metadata": {},
   "outputs": [
    {
     "name": "stdout",
     "output_type": "stream",
     "text": [
      "shape:  (4, 2) \n",
      " [[1 1]\n",
      " [1 1]\n",
      " [1 1]\n",
      " [1 1]]\n"
     ]
    }
   ],
   "source": [
    "o1 = np.ones((4,2), dtype=int)\n",
    "print('shape: ', o1.shape, '\\n', o1)"
   ]
  },
  {
   "cell_type": "code",
   "execution_count": 18,
   "id": "9477f6f9",
   "metadata": {},
   "outputs": [
    {
     "name": "stdout",
     "output_type": "stream",
     "text": [
      "shape:  (4, 3) \n",
      " [[7 7 7]\n",
      " [7 7 7]\n",
      " [7 7 7]\n",
      " [7 7 7]]\n"
     ]
    }
   ],
   "source": [
    "f1 = np.full((4,3),7, dtype='int')\n",
    "print('shape: ', f1.shape, '\\n', f1)"
   ]
  },
  {
   "cell_type": "code",
   "execution_count": 19,
   "id": "414f90e5",
   "metadata": {},
   "outputs": [
    {
     "name": "stdout",
     "output_type": "stream",
     "text": [
      "shape:  (3, 4) \n",
      " [[26 36 41 21]\n",
      " [24 47 23 12]\n",
      " [12 25 16 24]]\n"
     ]
    }
   ],
   "source": [
    "r1 = np.random.randint(11,55,(3,4))\n",
    "print('shape: ', r1.shape, '\\n', r1)"
   ]
  },
  {
   "cell_type": "code",
   "execution_count": 20,
   "id": "b01c4bc2",
   "metadata": {},
   "outputs": [
    {
     "name": "stdout",
     "output_type": "stream",
     "text": [
      "shape:  (3, 4) \n",
      " [[0.48116277 0.70547549 0.7857299  0.50754508]\n",
      " [0.38514301 0.8754495  0.28027984 0.19316887]\n",
      " [0.03879705 0.51231919 0.9106165  0.56453675]]\n"
     ]
    }
   ],
   "source": [
    "r2 = np.random.rand(3,4)\n",
    "print('shape: ', r2.shape, '\\n', r2)"
   ]
  },
  {
   "cell_type": "markdown",
   "id": "c3de7fd0",
   "metadata": {},
   "source": [
    "## concatenate array (vertically / horizontally)"
   ]
  },
  {
   "cell_type": "code",
   "execution_count": 21,
   "id": "40ad8eb4",
   "metadata": {},
   "outputs": [
    {
     "name": "stdout",
     "output_type": "stream",
     "text": [
      "shape:  (6, 3) \n",
      " [[0. 0. 0.]\n",
      " [0. 0. 0.]\n",
      " [7. 7. 7.]\n",
      " [7. 7. 7.]\n",
      " [7. 7. 7.]\n",
      " [7. 7. 7.]]\n"
     ]
    }
   ],
   "source": [
    "vstack = np.concatenate((z1,f1),axis=0)\n",
    "print('shape: ', vstack.shape, '\\n', vstack)"
   ]
  },
  {
   "cell_type": "code",
   "execution_count": 22,
   "id": "1361ae58",
   "metadata": {},
   "outputs": [
    {
     "name": "stdout",
     "output_type": "stream",
     "text": [
      "shape:  (4, 5) \n",
      " [[1 1 7 7 7]\n",
      " [1 1 7 7 7]\n",
      " [1 1 7 7 7]\n",
      " [1 1 7 7 7]]\n"
     ]
    }
   ],
   "source": [
    "hstack = np.concatenate((o1,f1),axis=1)\n",
    "print('shape: ', hstack.shape, '\\n', hstack)"
   ]
  },
  {
   "cell_type": "code",
   "execution_count": 23,
   "id": "c5487b06",
   "metadata": {},
   "outputs": [
    {
     "data": {
      "text/plain": [
       "(4, 5)"
      ]
     },
     "execution_count": 23,
     "metadata": {},
     "output_type": "execute_result"
    }
   ],
   "source": [
    "hstack.shape"
   ]
  },
  {
   "cell_type": "markdown",
   "id": "d6820192",
   "metadata": {},
   "source": [
    "## numpy.ravel --> Return a contiguous flattened array. i.e. A 1-D array, containing the elements of the input, is returned."
   ]
  },
  {
   "cell_type": "markdown",
   "id": "57be42b5",
   "metadata": {},
   "source": [
    "### Note: \"ravel\" returns reference of original matrix and hence operations update the base matrix also"
   ]
  },
  {
   "cell_type": "code",
   "execution_count": 24,
   "id": "294a3ef0",
   "metadata": {},
   "outputs": [],
   "source": [
    "o1r = o1.ravel()"
   ]
  },
  {
   "cell_type": "code",
   "execution_count": 25,
   "id": "f7560323",
   "metadata": {},
   "outputs": [
    {
     "data": {
      "text/plain": [
       "array([1, 1, 1, 1, 1, 1, 1, 1])"
      ]
     },
     "execution_count": 25,
     "metadata": {},
     "output_type": "execute_result"
    }
   ],
   "source": [
    "o1r"
   ]
  },
  {
   "cell_type": "code",
   "execution_count": 26,
   "id": "bc169ef9",
   "metadata": {},
   "outputs": [],
   "source": [
    "o1r[2]=20"
   ]
  },
  {
   "cell_type": "code",
   "execution_count": 27,
   "id": "680306c5",
   "metadata": {},
   "outputs": [
    {
     "data": {
      "text/plain": [
       "array([ 1,  1, 20,  1,  1,  1,  1,  1])"
      ]
     },
     "execution_count": 27,
     "metadata": {},
     "output_type": "execute_result"
    }
   ],
   "source": [
    "o1r"
   ]
  },
  {
   "cell_type": "code",
   "execution_count": 28,
   "id": "0b758103",
   "metadata": {},
   "outputs": [
    {
     "data": {
      "text/plain": [
       "array([[ 1,  1],\n",
       "       [20,  1],\n",
       "       [ 1,  1],\n",
       "       [ 1,  1]])"
      ]
     },
     "execution_count": 28,
     "metadata": {},
     "output_type": "execute_result"
    }
   ],
   "source": [
    "o1"
   ]
  },
  {
   "cell_type": "markdown",
   "id": "5a074347",
   "metadata": {},
   "source": [
    "## numpy.flatten --> Return a copy of the array collapsed into one dimension."
   ]
  },
  {
   "cell_type": "markdown",
   "id": "11977b05",
   "metadata": {},
   "source": [
    "### Note: \"flatten\" returns copy of original matrix and hence operations do not update the base matrix"
   ]
  },
  {
   "cell_type": "code",
   "execution_count": 29,
   "id": "88281297",
   "metadata": {},
   "outputs": [
    {
     "data": {
      "text/plain": [
       "array([[1, 1, 1],\n",
       "       [1, 1, 1],\n",
       "       [1, 1, 1],\n",
       "       [1, 1, 1]])"
      ]
     },
     "execution_count": 29,
     "metadata": {},
     "output_type": "execute_result"
    }
   ],
   "source": [
    "o2 = np.ones((4,3), dtype=int)\n",
    "o2"
   ]
  },
  {
   "cell_type": "code",
   "execution_count": 30,
   "id": "10931b6a",
   "metadata": {},
   "outputs": [
    {
     "data": {
      "text/plain": [
       "array([1, 1, 1, 1, 1, 1, 1, 1, 1, 1, 1, 1])"
      ]
     },
     "execution_count": 30,
     "metadata": {},
     "output_type": "execute_result"
    }
   ],
   "source": [
    "o2f = o2.flatten()\n",
    "o2f"
   ]
  },
  {
   "cell_type": "code",
   "execution_count": 31,
   "id": "9f629581",
   "metadata": {},
   "outputs": [
    {
     "data": {
      "text/plain": [
       "array([ 1,  1, 30,  1,  1,  1,  1,  1,  1,  1,  1,  1])"
      ]
     },
     "execution_count": 31,
     "metadata": {},
     "output_type": "execute_result"
    }
   ],
   "source": [
    "o2f[2] = 30\n",
    "o2f"
   ]
  },
  {
   "cell_type": "code",
   "execution_count": 32,
   "id": "8f2108f5",
   "metadata": {},
   "outputs": [
    {
     "data": {
      "text/plain": [
       "array([[1, 1, 1],\n",
       "       [1, 1, 1],\n",
       "       [1, 1, 1],\n",
       "       [1, 1, 1]])"
      ]
     },
     "execution_count": 32,
     "metadata": {},
     "output_type": "execute_result"
    }
   ],
   "source": [
    "o2"
   ]
  },
  {
   "cell_type": "markdown",
   "id": "f07569df",
   "metadata": {},
   "source": [
    "## Squeeze"
   ]
  },
  {
   "cell_type": "markdown",
   "id": "49a79fae",
   "metadata": {},
   "source": [
    "## numpy.squeeze --> Remove axes of length one from a."
   ]
  },
  {
   "cell_type": "code",
   "execution_count": 33,
   "id": "8bba9eab",
   "metadata": {},
   "outputs": [
    {
     "name": "stdout",
     "output_type": "stream",
     "text": [
      "shape:  (3, 3, 1) \n",
      " [[[0]\n",
      "  [1]\n",
      "  [2]]\n",
      "\n",
      " [[3]\n",
      "  [4]\n",
      "  [5]]\n",
      "\n",
      " [[6]\n",
      "  [7]\n",
      "  [8]]]\n"
     ]
    }
   ],
   "source": [
    "md1 = np.arange(9).reshape(3,3,1)\n",
    "print('shape: ', md1.shape, '\\n', md1)"
   ]
  },
  {
   "cell_type": "code",
   "execution_count": 34,
   "id": "808548ef",
   "metadata": {},
   "outputs": [
    {
     "name": "stdout",
     "output_type": "stream",
     "text": [
      "shape:  (3, 3) \n",
      " [[0 1 2]\n",
      " [3 4 5]\n",
      " [6 7 8]]\n"
     ]
    }
   ],
   "source": [
    "sq = md1.squeeze()\n",
    "print('shape: ', sq.shape, '\\n', sq)"
   ]
  },
  {
   "cell_type": "code",
   "execution_count": 35,
   "id": "4c70438e",
   "metadata": {},
   "outputs": [
    {
     "name": "stdout",
     "output_type": "stream",
     "text": [
      "shape:  (1, 3, 3) \n",
      " [[[1 2 3]\n",
      "  [4 5 6]\n",
      "  [7 8 9]]]\n"
     ]
    }
   ],
   "source": [
    "md1 = np.array([\n",
    "    [\n",
    "        [1,2,3],\n",
    "        [4,5,6],\n",
    "        [7,8,9]\n",
    "    ]\n",
    "])\n",
    "print('shape: ', md1.shape, '\\n', md1)"
   ]
  },
  {
   "cell_type": "code",
   "execution_count": 36,
   "id": "14d1e555",
   "metadata": {},
   "outputs": [
    {
     "name": "stdout",
     "output_type": "stream",
     "text": [
      "shape:  (3, 3) \n",
      " [[1 2 3]\n",
      " [4 5 6]\n",
      " [7 8 9]]\n"
     ]
    }
   ],
   "source": [
    "sq = md1.squeeze()\n",
    "print('shape: ', sq.shape, '\\n', sq)"
   ]
  },
  {
   "cell_type": "code",
   "execution_count": 37,
   "id": "512eda54",
   "metadata": {},
   "outputs": [
    {
     "name": "stdout",
     "output_type": "stream",
     "text": [
      "shape:  (1, 3, 1) \n",
      " [[[0]\n",
      "  [1]\n",
      "  [2]]]\n"
     ]
    }
   ],
   "source": [
    "md1 = np.array([[[0], [1], [2]]])\n",
    "print('shape: ', md1.shape, '\\n', md1)"
   ]
  },
  {
   "cell_type": "code",
   "execution_count": 38,
   "id": "60ce68b8",
   "metadata": {},
   "outputs": [
    {
     "name": "stdout",
     "output_type": "stream",
     "text": [
      "shape:  (3,) \n",
      " [0 1 2]\n"
     ]
    }
   ],
   "source": [
    "sq1 = md1.squeeze()\n",
    "print('shape: ', sq1.shape, '\\n', sq1)"
   ]
  },
  {
   "cell_type": "code",
   "execution_count": 39,
   "id": "4368ce37",
   "metadata": {},
   "outputs": [
    {
     "name": "stdout",
     "output_type": "stream",
     "text": [
      "shape:  (3, 1) \n",
      " [[0]\n",
      " [1]\n",
      " [2]]\n"
     ]
    }
   ],
   "source": [
    "sq2 = md1.squeeze(0) # squeeze out axis 0\n",
    "print('shape: ', sq2.shape, '\\n', sq2)"
   ]
  },
  {
   "cell_type": "code",
   "execution_count": 40,
   "id": "582fdacb",
   "metadata": {},
   "outputs": [
    {
     "name": "stdout",
     "output_type": "stream",
     "text": [
      "shape:  (1, 3) \n",
      " [[0 1 2]]\n"
     ]
    }
   ],
   "source": [
    "sq3 = md1.squeeze(2) # or alternatively md1.squeeze(-1) for reverse reference\n",
    "print('shape: ', sq3.shape, '\\n', sq3)"
   ]
  },
  {
   "cell_type": "markdown",
   "id": "f0f83b80",
   "metadata": {},
   "source": [
    "___Note: the error now, cause we will try to change non-1 dimension___"
   ]
  },
  {
   "cell_type": "code",
   "execution_count": 41,
   "id": "d880abf5",
   "metadata": {},
   "outputs": [
    {
     "ename": "ValueError",
     "evalue": "cannot select an axis to squeeze out which has size not equal to one",
     "output_type": "error",
     "traceback": [
      "\u001b[0;31m---------------------------------------------------------------------------\u001b[0m",
      "\u001b[0;31mValueError\u001b[0m                                Traceback (most recent call last)",
      "Cell \u001b[0;32mIn[41], line 1\u001b[0m\n\u001b[0;32m----> 1\u001b[0m sq4 \u001b[38;5;241m=\u001b[39m \u001b[43mmd1\u001b[49m\u001b[38;5;241;43m.\u001b[39;49m\u001b[43msqueeze\u001b[49m\u001b[43m(\u001b[49m\u001b[38;5;241;43m1\u001b[39;49m\u001b[43m)\u001b[49m \u001b[38;5;66;03m# try to squeeze out axis 1\u001b[39;00m\n\u001b[1;32m      2\u001b[0m \u001b[38;5;28mprint\u001b[39m(\u001b[38;5;124m'\u001b[39m\u001b[38;5;124mshape: \u001b[39m\u001b[38;5;124m'\u001b[39m, sq4\u001b[38;5;241m.\u001b[39mshape, \u001b[38;5;124m'\u001b[39m\u001b[38;5;130;01m\\n\u001b[39;00m\u001b[38;5;124m'\u001b[39m, sq4)\n",
      "\u001b[0;31mValueError\u001b[0m: cannot select an axis to squeeze out which has size not equal to one"
     ]
    }
   ],
   "source": [
    "sq4 = md1.squeeze(1) # try to squeeze out axis 1\n",
    "print('shape: ', sq4.shape, '\\n', sq4)"
   ]
  },
  {
   "cell_type": "code",
   "execution_count": 42,
   "id": "7c3c29bd",
   "metadata": {},
   "outputs": [
    {
     "name": "stdout",
     "output_type": "stream",
     "text": [
      "shape:  (4, 1, 3) \n",
      " [[[2 5 1]]\n",
      "\n",
      " [[8 5 9]]\n",
      "\n",
      " [[1 9 8]]\n",
      "\n",
      " [[8 9 5]]]\n"
     ]
    }
   ],
   "source": [
    "m2 = np.random.randint(1,10,(4,1,3))\n",
    "print('shape: ', m2.shape, '\\n', m2)"
   ]
  },
  {
   "cell_type": "code",
   "execution_count": 43,
   "id": "4cd019c7",
   "metadata": {},
   "outputs": [
    {
     "name": "stdout",
     "output_type": "stream",
     "text": [
      "shape:  (4, 3) \n",
      " [[2 5 1]\n",
      " [8 5 9]\n",
      " [1 9 8]\n",
      " [8 9 5]]\n"
     ]
    }
   ],
   "source": [
    "sq5 = m2.squeeze()\n",
    "print('shape: ', sq5.shape, '\\n', sq5)"
   ]
  },
  {
   "cell_type": "markdown",
   "id": "58f058a6",
   "metadata": {},
   "source": [
    "### Summary of Squeeze\n",
    "1. Squeeze ***removes all*** 1-D axes from the matrix  \n",
    "2. However, if you provide an axis as input argument, then it ***removes only specified axis*** from the matrix. Unless, that axis is not 1-D axis, in which case it gives an error\n",
    "\n",
    "Squeeze is used in deep learning libraries to adjust the current shape of input to match required input"
   ]
  },
  {
   "cell_type": "markdown",
   "id": "ac06716a",
   "metadata": {},
   "source": [
    "## numpy.expand_dims\n",
    "Expand the shape of an array.\n",
    "\n",
    "Insert a new axis that will appear at the axis position in the expanded array shape."
   ]
  },
  {
   "cell_type": "code",
   "execution_count": 44,
   "id": "1bf71182",
   "metadata": {},
   "outputs": [
    {
     "data": {
      "text/plain": [
       "array([[1, 2, 3],\n",
       "       [4, 5, 6],\n",
       "       [7, 8, 9]])"
      ]
     },
     "execution_count": 44,
     "metadata": {},
     "output_type": "execute_result"
    }
   ],
   "source": [
    "sq"
   ]
  },
  {
   "cell_type": "code",
   "execution_count": 45,
   "id": "e4c338ca",
   "metadata": {},
   "outputs": [
    {
     "name": "stdout",
     "output_type": "stream",
     "text": [
      "shape:  (3, 3, 1) \n",
      " [[[1]\n",
      "  [2]\n",
      "  [3]]\n",
      "\n",
      " [[4]\n",
      "  [5]\n",
      "  [6]]\n",
      "\n",
      " [[7]\n",
      "  [8]\n",
      "  [9]]]\n"
     ]
    }
   ],
   "source": [
    "e1 = np.expand_dims(sq,axis=-1) # alternatively axis = 2\n",
    "print('shape: ', e1.shape, '\\n', e1)"
   ]
  },
  {
   "cell_type": "code",
   "execution_count": 46,
   "id": "6b43da81",
   "metadata": {},
   "outputs": [
    {
     "name": "stdout",
     "output_type": "stream",
     "text": [
      "shape:  (3,) \n",
      " [0 1 2]\n"
     ]
    }
   ],
   "source": [
    "print('shape: ', sq1.shape, '\\n', sq1)"
   ]
  },
  {
   "cell_type": "code",
   "execution_count": 47,
   "id": "5db2d6eb",
   "metadata": {},
   "outputs": [
    {
     "name": "stdout",
     "output_type": "stream",
     "text": [
      "shape:  (1, 3, 1) \n",
      " [[[0]\n",
      "  [1]\n",
      "  [2]]]\n"
     ]
    }
   ],
   "source": [
    "e2 = np.expand_dims(sq1, axis=(0,2))\n",
    "print('shape: ', e2.shape, '\\n', e2)"
   ]
  },
  {
   "cell_type": "code",
   "execution_count": 48,
   "id": "a9a54f58",
   "metadata": {},
   "outputs": [
    {
     "name": "stdout",
     "output_type": "stream",
     "text": [
      "shape:  (3, 1) \n",
      " [[0]\n",
      " [1]\n",
      " [2]]\n"
     ]
    }
   ],
   "source": [
    "e3 = np.expand_dims(sq1, axis = -1)\n",
    "print('shape: ', e3.shape, '\\n', e3)"
   ]
  },
  {
   "cell_type": "markdown",
   "id": "57330747",
   "metadata": {},
   "source": [
    "### Summary of expand_dims\n",
    "\n",
    "It is opposite of squeeze and used in deep learning libraries to adjust the current shape of input to match required input"
   ]
  },
  {
   "cell_type": "markdown",
   "id": "c7d310fe",
   "metadata": {},
   "source": [
    "## numpy.argmax\n",
    "Returns the indices of the maximum values along an axis."
   ]
  },
  {
   "cell_type": "code",
   "execution_count": 49,
   "id": "bca8831e",
   "metadata": {},
   "outputs": [
    {
     "name": "stdout",
     "output_type": "stream",
     "text": [
      "shape:  (4, 3) \n",
      " [[33 56 49]\n",
      " [45 86 24]\n",
      " [17 56 83]\n",
      " [19 52 85]]\n"
     ]
    }
   ],
   "source": [
    "m1 = np.random.randint(11,99,(4,3))\n",
    "print('shape: ', m1.shape, '\\n', m1)"
   ]
  },
  {
   "cell_type": "code",
   "execution_count": 50,
   "id": "86a69dfd",
   "metadata": {},
   "outputs": [
    {
     "data": {
      "text/plain": [
       "86"
      ]
     },
     "execution_count": 50,
     "metadata": {},
     "output_type": "execute_result"
    }
   ],
   "source": [
    "np.max(m1)"
   ]
  },
  {
   "cell_type": "code",
   "execution_count": 51,
   "id": "fdd99a05",
   "metadata": {},
   "outputs": [
    {
     "data": {
      "text/plain": [
       "4"
      ]
     },
     "execution_count": 51,
     "metadata": {},
     "output_type": "execute_result"
    }
   ],
   "source": [
    "np.argmax(m1)"
   ]
  },
  {
   "cell_type": "code",
   "execution_count": 52,
   "id": "0118941c",
   "metadata": {},
   "outputs": [
    {
     "data": {
      "text/plain": [
       "array([45, 86, 85])"
      ]
     },
     "execution_count": 52,
     "metadata": {},
     "output_type": "execute_result"
    }
   ],
   "source": [
    "np.max(m1,axis=0)"
   ]
  },
  {
   "cell_type": "code",
   "execution_count": 53,
   "id": "33446c10",
   "metadata": {},
   "outputs": [
    {
     "data": {
      "text/plain": [
       "array([1, 1, 3])"
      ]
     },
     "execution_count": 53,
     "metadata": {},
     "output_type": "execute_result"
    }
   ],
   "source": [
    "np.argmax(m1,axis=0)"
   ]
  },
  {
   "cell_type": "code",
   "execution_count": 54,
   "id": "b4e6159a",
   "metadata": {},
   "outputs": [
    {
     "data": {
      "text/plain": [
       "array([56, 86, 83, 85])"
      ]
     },
     "execution_count": 54,
     "metadata": {},
     "output_type": "execute_result"
    }
   ],
   "source": [
    "np.max(m1,axis=1)"
   ]
  },
  {
   "cell_type": "code",
   "execution_count": 55,
   "id": "b0bd0418",
   "metadata": {},
   "outputs": [
    {
     "data": {
      "text/plain": [
       "array([1, 1, 2, 2])"
      ]
     },
     "execution_count": 55,
     "metadata": {},
     "output_type": "execute_result"
    }
   ],
   "source": [
    "np.argmax(m1,axis=1)"
   ]
  }
 ],
 "metadata": {
  "kernelspec": {
   "display_name": "Python 3 (ipykernel)",
   "language": "python",
   "name": "python3"
  },
  "language_info": {
   "codemirror_mode": {
    "name": "ipython",
    "version": 3
   },
   "file_extension": ".py",
   "mimetype": "text/x-python",
   "name": "python",
   "nbconvert_exporter": "python",
   "pygments_lexer": "ipython3",
   "version": "3.10.9"
  }
 },
 "nbformat": 4,
 "nbformat_minor": 5
}

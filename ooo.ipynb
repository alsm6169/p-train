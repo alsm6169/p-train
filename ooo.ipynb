{
 "cells": [
  {
   "cell_type": "markdown",
   "id": "c97a5f36",
   "metadata": {},
   "source": [
    "## Useful Links\n",
    "[Python - Magic or Dunder Methods](https://www.tutorialsteacher.com/python/magic-methods-in-python)  \n",
    "[Primer on Python Decorators](https://realpython.com/primer-on-python-decorators/)  \n",
    "[Python Classes](https://docs.python.org/3.7/tutorial/classes.html#private-variables)  \n",
    "[Object-Oriented Programming in Python Live Training](https://github.com/ariannedee/oop-python)"
   ]
  },
  {
   "cell_type": "code",
   "execution_count": 1,
   "id": "e5fc41bb",
   "metadata": {},
   "outputs": [],
   "source": [
    "from enum import Enum\n",
    "\n",
    "class BankStatus(Enum):\n",
    "    OPENED = 1\n",
    "    CLOSED = 2\n",
    "    DORMANT = 3\n",
    "    ONBOARDING = 4    "
   ]
  },
  {
   "cell_type": "code",
   "execution_count": 2,
   "id": "edeafc06",
   "metadata": {},
   "outputs": [],
   "source": [
    "class ProcessError(Exception):\n",
    "    pass"
   ]
  },
  {
   "cell_type": "code",
   "execution_count": 3,
   "id": "600a566b",
   "metadata": {},
   "outputs": [],
   "source": [
    "class Account:\n",
    "    def __init__(self, name, balance=0.0, rate=1.0, status = BankStatus.ONBOARDING):\n",
    "        print('inside __init__')\n",
    "        self.name = name\n",
    "        self.balance = balance\n",
    "        self.rate = rate\n",
    "        self.status = status\n",
    "        \n",
    "    def __del__(self):\n",
    "        print('inside __del__')\n",
    "        name=''\n",
    "        balance, rate = 0,0\n",
    "        \n",
    "    def __str__(self):\n",
    "        print('inside __str__')\n",
    "        return f'{type(self).__name__} Balance for {self.name} is {self.balance}'\n",
    "    \n",
    "    def __repr__(self):\n",
    "        print('inside __repr__')\n",
    "        return type(self).__name__ + f': {self.name}:{self.status}'\n",
    "    \n",
    "    def deposit(self,  amount=0):\n",
    "        print('inside deposit')\n",
    "        self.balance += amount\n",
    "\n",
    "    def withdraw(self, amount=0):\n",
    "        print('inside withdraw')\n",
    "        if amount > self.balance: \n",
    "            # self.balance -= amount\n",
    "            raise ProcessError('Insufficient Balance')\n",
    "        else:\n",
    "            self.balance = 0\n",
    "            \n",
    "    def get_balance(self):\n",
    "        print('inside get_balance')\n",
    "        return self.balance\n",
    "    \n",
    "    def change_status(self, status):\n",
    "        self.status = status\n",
    "       \n",
    "    def get_status(self):\n",
    "        return self.status\n",
    "    \n",
    "    def apply_interest(self):\n",
    "        # Balance = Balance + Balance*Rate*Time(1 year)\n",
    "        self.balance += (self.balance)*(self.rate/100)*(1)\n",
    "    "
   ]
  },
  {
   "cell_type": "code",
   "execution_count": 4,
   "id": "abf90f2b",
   "metadata": {},
   "outputs": [
    {
     "name": "stdout",
     "output_type": "stream",
     "text": [
      "inside __init__\n"
     ]
    }
   ],
   "source": [
    "my_account = Account('Joe Evans', 1000 ,1.2)"
   ]
  },
  {
   "cell_type": "code",
   "execution_count": 5,
   "id": "728f5a0e",
   "metadata": {},
   "outputs": [
    {
     "name": "stdout",
     "output_type": "stream",
     "text": [
      "inside __str__\n",
      "Account Balance for Joe Evans is 1000\n"
     ]
    }
   ],
   "source": [
    "print(my_account)"
   ]
  },
  {
   "cell_type": "code",
   "execution_count": 6,
   "id": "884e4cc9",
   "metadata": {},
   "outputs": [
    {
     "name": "stdout",
     "output_type": "stream",
     "text": [
      "inside __repr__\n"
     ]
    },
    {
     "data": {
      "text/plain": [
       "'Account: Joe Evans:BankStatus.ONBOARDING'"
      ]
     },
     "execution_count": 6,
     "metadata": {},
     "output_type": "execute_result"
    }
   ],
   "source": [
    "repr(my_account)"
   ]
  },
  {
   "cell_type": "code",
   "execution_count": 7,
   "id": "bfe8be26",
   "metadata": {},
   "outputs": [],
   "source": [
    "my_account.change_status(BankStatus.OPENED)"
   ]
  },
  {
   "cell_type": "code",
   "execution_count": 8,
   "id": "7e21d7d5",
   "metadata": {},
   "outputs": [
    {
     "name": "stdout",
     "output_type": "stream",
     "text": [
      "inside __repr__\n"
     ]
    },
    {
     "data": {
      "text/plain": [
       "'Account: Joe Evans:BankStatus.OPENED'"
      ]
     },
     "execution_count": 8,
     "metadata": {},
     "output_type": "execute_result"
    }
   ],
   "source": [
    "repr(my_account)"
   ]
  },
  {
   "cell_type": "code",
   "execution_count": 9,
   "id": "d56b45fd",
   "metadata": {},
   "outputs": [
    {
     "name": "stdout",
     "output_type": "stream",
     "text": [
      "inside deposit\n"
     ]
    }
   ],
   "source": [
    "my_account.deposit(25)"
   ]
  },
  {
   "cell_type": "code",
   "execution_count": 10,
   "id": "0cc0b4df",
   "metadata": {},
   "outputs": [
    {
     "name": "stdout",
     "output_type": "stream",
     "text": [
      "inside __str__\n",
      "Account Balance for Joe Evans is 1025\n"
     ]
    }
   ],
   "source": [
    "print(my_account)"
   ]
  },
  {
   "cell_type": "code",
   "execution_count": 11,
   "id": "2d92dabc",
   "metadata": {},
   "outputs": [
    {
     "name": "stdout",
     "output_type": "stream",
     "text": [
      "inside __str__\n",
      "Account Balance for Joe Evans is 1037.3\n"
     ]
    }
   ],
   "source": [
    "my_account.apply_interest()\n",
    "print(my_account)"
   ]
  },
  {
   "cell_type": "code",
   "execution_count": 12,
   "id": "da574f29",
   "metadata": {},
   "outputs": [
    {
     "name": "stdout",
     "output_type": "stream",
     "text": [
      "inside withdraw\n"
     ]
    }
   ],
   "source": [
    "try:\n",
    "    my_account.withdraw(540)\n",
    "except ProcessError as e:\n",
    "    print('ProcessError:', e)\n",
    "except Exception as e:\n",
    "    print('General Exception:', e)"
   ]
  },
  {
   "cell_type": "markdown",
   "id": "758849f4",
   "metadata": {},
   "source": [
    "## *args and **kwargs\n",
    "\n",
    "**args** = positional arguments  \n",
    "**kwargs** = keyword arguments  \n",
    "If args is a list, *args is  item1, item2, …  \n",
    "If kwargs is a dict, **kwargs is key1=value1, key2=value2, …  "
   ]
  },
  {
   "cell_type": "code",
   "execution_count": 30,
   "id": "2e1b5d7f",
   "metadata": {},
   "outputs": [],
   "source": [
    "class SavingAccount(Account):\n",
    "    def __init__(self, nominee='my spouse', *args, **kwargs):\n",
    "        print('inside SavingAccount __init__')\n",
    "        self.nominee = nominee\n",
    "        super().__init__(*args, **kwargs)\n",
    "\n",
    "    def apply_interest(self):\n",
    "        # Balance = Balance*(1 + rate/1200)^12 -1)\n",
    "        self.balance += (self.balance)*((1 + self.rate/1200)**12 -1)\n",
    "        \n",
    "    def get_nominee(self):\n",
    "        return self.nominee\n",
    "        "
   ]
  },
  {
   "cell_type": "code",
   "execution_count": 59,
   "id": "39e25750",
   "metadata": {},
   "outputs": [
    {
     "name": "stdout",
     "output_type": "stream",
     "text": [
      "inside SavingAccount __init__\n",
      "inside __init__\n"
     ]
    }
   ],
   "source": [
    "# here first argument for child class the name of the nominee \n",
    "# the arguments 'Dow Who', 1000 are passed positionally with args\n",
    "# the arguments rate is passed with kwargs\n",
    "my_saving_account = SavingAccount('Ms Who', 'Dow Who', 1000, rate=1.5, status = BankStatus.OPENED)"
   ]
  },
  {
   "cell_type": "code",
   "execution_count": 60,
   "id": "a369dbcb",
   "metadata": {},
   "outputs": [
    {
     "name": "stdout",
     "output_type": "stream",
     "text": [
      "inside __str__\n",
      "SavingAccount Balance for Dow Who is 1000\n"
     ]
    }
   ],
   "source": [
    "print(my_saving_account)"
   ]
  },
  {
   "cell_type": "code",
   "execution_count": 61,
   "id": "bf3a5a86",
   "metadata": {},
   "outputs": [
    {
     "name": "stdout",
     "output_type": "stream",
     "text": [
      "inside __repr__\n"
     ]
    },
    {
     "data": {
      "text/plain": [
       "'SavingAccount: Dow Who:BankStatus.OPENED'"
      ]
     },
     "execution_count": 61,
     "metadata": {},
     "output_type": "execute_result"
    }
   ],
   "source": [
    "repr(my_saving_account)"
   ]
  },
  {
   "cell_type": "code",
   "execution_count": 62,
   "id": "25726e03",
   "metadata": {},
   "outputs": [
    {
     "name": "stdout",
     "output_type": "stream",
     "text": [
      "inside __str__\n",
      "SavingAccount Balance for Dow Who is 1015.1035558984163\n"
     ]
    }
   ],
   "source": [
    "my_saving_account.apply_interest()\n",
    "print(my_saving_account)"
   ]
  },
  {
   "cell_type": "code",
   "execution_count": 63,
   "id": "3f4911af",
   "metadata": {},
   "outputs": [
    {
     "name": "stdout",
     "output_type": "stream",
     "text": [
      "Ms Who\n"
     ]
    }
   ],
   "source": [
    "print(my_saving_account.get_nominee())"
   ]
  },
  {
   "cell_type": "code",
   "execution_count": 64,
   "id": "038b83d0",
   "metadata": {},
   "outputs": [
    {
     "name": "stdout",
     "output_type": "stream",
     "text": [
      "inside __del__\n"
     ]
    }
   ],
   "source": [
    "del(my_saving_account)"
   ]
  },
  {
   "cell_type": "code",
   "execution_count": 65,
   "id": "98dda2ed",
   "metadata": {},
   "outputs": [
    {
     "ename": "NameError",
     "evalue": "name 'my_saving_account' is not defined",
     "output_type": "error",
     "traceback": [
      "\u001b[0;31m---------------------------------------------------------------------------\u001b[0m",
      "\u001b[0;31mNameError\u001b[0m                                 Traceback (most recent call last)",
      "Cell \u001b[0;32mIn[65], line 1\u001b[0m\n\u001b[0;32m----> 1\u001b[0m \u001b[38;5;28mprint\u001b[39m(\u001b[43mmy_saving_account\u001b[49m)\n",
      "\u001b[0;31mNameError\u001b[0m: name 'my_saving_account' is not defined"
     ]
    }
   ],
   "source": [
    "print(my_saving_account)"
   ]
  },
  {
   "cell_type": "code",
   "execution_count": null,
   "id": "fe1bd8bc",
   "metadata": {},
   "outputs": [],
   "source": []
  }
 ],
 "metadata": {
  "kernelspec": {
   "display_name": "Python 3 (ipykernel)",
   "language": "python",
   "name": "python3"
  },
  "language_info": {
   "codemirror_mode": {
    "name": "ipython",
    "version": 3
   },
   "file_extension": ".py",
   "mimetype": "text/x-python",
   "name": "python",
   "nbconvert_exporter": "python",
   "pygments_lexer": "ipython3",
   "version": "3.10.9"
  }
 },
 "nbformat": 4,
 "nbformat_minor": 5
}
